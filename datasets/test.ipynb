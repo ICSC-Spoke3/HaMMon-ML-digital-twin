{
 "cells": [
  {
   "cell_type": "code",
   "execution_count": 1,
   "metadata": {},
   "outputs": [],
   "source": [
    "import sys\n",
    "import os\n",
    "root_dir = os.path.abspath(os.path.join(os.getcwd(), \"..\"))\n",
    "sys.path.append(root_dir)\n",
    "\n",
    "from kaggle_crack import Dataset\n",
    "from utils.imgs import ImgToolkit"
   ]
  },
  {
   "cell_type": "code",
   "execution_count": 45,
   "metadata": {},
   "outputs": [
    {
     "data": {
      "text/plain": [
       "9603"
      ]
     },
     "execution_count": 45,
     "metadata": {},
     "output_type": "execute_result"
    }
   ],
   "source": [
    "dset = Dataset(split='train')\n",
    "len(dset)"
   ]
  },
  {
   "cell_type": "code",
   "execution_count": 46,
   "metadata": {},
   "outputs": [],
   "source": [
    "#img, target = dset.get_PIL(1)\n",
    "img, target = dset[800]"
   ]
  },
  {
   "cell_type": "code",
   "execution_count": 47,
   "metadata": {},
   "outputs": [
    {
     "name": "stdout",
     "output_type": "stream",
     "text": [
      "<class 'torch.Tensor'> torch.Size([3, 448, 448])\n",
      "target:\n",
      " type <class 'torch.Tensor'>, shape torch.Size([448, 448])\n",
      " unique tensor([  0,   1,   2,   3,   4,   5,   6,   7, 248, 249, 250, 251, 252, 253,\n",
      "        254, 255])\n",
      " max 255 min 0\n"
     ]
    }
   ],
   "source": [
    "print(type(img),img.shape)\n",
    "print('target:')\n",
    "print(f\" type {type(target)}, shape {target.shape}\")\n",
    "print(f\" unique {target.unique()}\")\n",
    "print(f\" max {target.max()} min {target.min()}\")"
   ]
  },
  {
   "cell_type": "code",
   "execution_count": 55,
   "metadata": {},
   "outputs": [
    {
     "data": {
      "text/plain": [
       "tensor([[  0,   0,   0,   0,   0,   0,   0,   0,   0,   0,   0,   0,   0,   0],\n",
       "        [  0,   0,   0,   0,   0,   0,   0,   0,   0,   0,   0,   0,   0,   0],\n",
       "        [  4,   0,   1,   0,   0,   1,   1,   0,   0,   0,   0,   1,   0,   0],\n",
       "        [  0, 252, 255, 255, 255, 255, 251, 255, 255, 254, 255,   0,   1,   2],\n",
       "        [  0, 255, 255, 254, 253, 255, 255, 255, 251, 254, 255,   0,   0,   3],\n",
       "        [255, 253, 251, 255, 255, 255, 255, 251, 255, 255, 255,   0,   3,   0],\n",
       "        [255, 255, 255, 254, 254, 254, 254, 255, 255, 253, 254,   0,   0,   3],\n",
       "        [255, 252, 255, 255, 255, 252, 255, 251, 253, 255, 255, 255, 255, 254],\n",
       "        [249, 255, 255, 253, 254, 255, 254, 255, 255, 255, 254, 255, 255, 254],\n",
       "        [255, 254, 254, 255, 255, 255, 254, 255, 253, 255, 255, 254, 255, 253],\n",
       "        [255, 255, 255, 255, 255, 255, 255, 255, 255, 255, 255, 255, 255, 255],\n",
       "        [255, 255, 255, 255, 255, 255, 255, 255, 255, 255, 255, 255, 255, 255],\n",
       "        [255, 255, 255, 255, 255, 255, 255, 255, 255, 255, 255, 255, 255, 255],\n",
       "        [255, 255, 255, 255, 255, 255, 255, 255, 255, 255, 255, 255, 255, 255]])"
      ]
     },
     "execution_count": 55,
     "metadata": {},
     "output_type": "execute_result"
    }
   ],
   "source": [
    "x=317\n",
    "y=123\n",
    "n=7\n",
    "target[(x-n):(x+n),(y-n):(y+n)]"
   ]
  },
  {
   "cell_type": "code",
   "execution_count": 49,
   "metadata": {},
   "outputs": [],
   "source": [
    "import numpy as np\n",
    "nonzero_indices = np.nonzero(target)"
   ]
  },
  {
   "cell_type": "code",
   "execution_count": 50,
   "metadata": {},
   "outputs": [
    {
     "data": {
      "text/plain": [
       "tensor([[312, 113],\n",
       "        [312, 116],\n",
       "        [312, 118],\n",
       "        ...,\n",
       "        [447, 241],\n",
       "        [447, 244],\n",
       "        [447, 247]])"
      ]
     },
     "execution_count": 50,
     "metadata": {},
     "output_type": "execute_result"
    }
   ],
   "source": [
    "nonzero_indices"
   ]
  },
  {
   "cell_type": "code",
   "execution_count": null,
   "metadata": {},
   "outputs": [],
   "source": [
    "kit = ImgToolkit(dset)"
   ]
  },
  {
   "cell_type": "code",
   "execution_count": null,
   "metadata": {},
   "outputs": [],
   "source": [
    "kit.dataset[800]"
   ]
  },
  {
   "cell_type": "code",
   "execution_count": null,
   "metadata": {},
   "outputs": [],
   "source": [
    "kit.view(5)"
   ]
  },
  {
   "cell_type": "code",
   "execution_count": null,
   "metadata": {},
   "outputs": [],
   "source": [
    "img, mask = kit.dataset[5]\n",
    "img =kit.img_to_np(img)\n",
    "mask = kit.label_to_np(mask)\n",
    "kit.visualize_images_with_superposition(img, mask)"
   ]
  }
 ],
 "metadata": {
  "kernelspec": {
   "display_name": "Python 3",
   "language": "python",
   "name": "python3"
  },
  "language_info": {
   "codemirror_mode": {
    "name": "ipython",
    "version": 3
   },
   "file_extension": ".py",
   "mimetype": "text/x-python",
   "name": "python",
   "nbconvert_exporter": "python",
   "pygments_lexer": "ipython3",
   "version": "3.11.9"
  }
 },
 "nbformat": 4,
 "nbformat_minor": 2
}
