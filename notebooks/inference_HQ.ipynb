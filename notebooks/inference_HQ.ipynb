{
 "cells": [
  {
   "cell_type": "markdown",
   "metadata": {},
   "source": [
    "## only a memo"
   ]
  },
  {
   "cell_type": "code",
   "execution_count": null,
   "metadata": {
    "vscode": {
     "languageId": "plaintext"
    }
   },
   "outputs": [],
   "source": [
    "\n",
    "\n",
    "model = tiramisu_modelParallel.FCDenseNet103(len(dataset.class_names), \n",
    "                                        devices=['cpu','cuda:0', 'cuda:1'],\n",
    "                                        split_indices=(1,2))"
   ]
  }
 ],
 "metadata": {
  "language_info": {
   "name": "python"
  }
 },
 "nbformat": 4,
 "nbformat_minor": 2
}
